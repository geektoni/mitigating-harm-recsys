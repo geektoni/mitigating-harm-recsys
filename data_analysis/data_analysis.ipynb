{
 "cells": [
  {
   "cell_type": "code",
   "execution_count": 1,
   "id": "f5898b9b-9db9-4439-9e0a-b9489060c169",
   "metadata": {},
   "outputs": [],
   "source": [
    "import numpy as np\n",
    "import pandas as pd\n",
    "import matplotlib.pyplot as plt\n",
    "import seaborn as sns\n",
    "import scipy.stats as st\n",
    "import os\n",
    "from scipy.stats import weibull_min, genpareto, pareto, lognorm, kstest, expon, probplot, poisson, gamma, lognorm, anderson\n",
    "from sklearn.model_selection import train_test_split\n",
    "\n",
    "from mpl_toolkits.axes_grid1.inset_locator import inset_axes, mark_inset\n",
    "\n",
    "from IPython.display import display, Math\n",
    "\n",
    "sns.set_theme(font_scale=1.2,\n",
    "        style=\"ticks\",\n",
    "        rc={\n",
    "        \"text.usetex\": True,\n",
    "        'text.latex.preamble': r'\\usepackage{amsfonts}\\usepackage{graphicx}',\n",
    "        \"font.family\": \"serif\",\n",
    "    })"
   ]
  },
  {
   "cell_type": "code",
   "execution_count": 2,
   "id": "10c80c0f-d56a-4260-ae43-aa1c92b69c89",
   "metadata": {},
   "outputs": [],
   "source": [
    "def load_csv_files_to_dataframe(directory, columns=None):\n",
    "    \"\"\"\n",
    "    Reads all CSV files in the specified directory and combines them into a single pandas DataFrame.\n",
    "\n",
    "    Parameters:\n",
    "        directory (str): The path to the directory containing the CSV files.\n",
    "\n",
    "    Returns:\n",
    "        pd.DataFrame: A DataFrame containing the combined data from all CSV files.\n",
    "    \"\"\"\n",
    "    # List to store dataframes\n",
    "    dataframes = []\n",
    "\n",
    "    # Iterate through all files in the directory\n",
    "    for filename in os.listdir(directory):\n",
    "        if filename.endswith('.csv'):   \n",
    "            if \"random\" in filename:\n",
    "                continue\n",
    "            filepath = os.path.join(directory, filename)\n",
    "            print(f\"Loading file: {filepath}\")\n",
    "            # Read the CSV file and append to the list\n",
    "            dataframes.append(pd.read_csv(filepath, usecols=columns))\n",
    "\n",
    "    # Concatenate all dataframes into one\n",
    "    combined_dataframe = pd.concat(dataframes, ignore_index=True)\n",
    "    return combined_dataframe"
   ]
  },
  {
   "cell_type": "code",
   "execution_count": 3,
   "id": "cd44946b-5217-44b2-808e-a72fb16002b5",
   "metadata": {},
   "outputs": [],
   "source": [
    "def get_repeated_video_counts(flag_status):\n",
    "\n",
    "    # Step 2: **Exclude cases where a video was watched only once**\n",
    "    flag_status = flag_status[flag_status[\"count\"] > 1].copy()\n",
    "    \n",
    "    # Step 2: Classify video flagging behaviors\n",
    "    conditions = [\n",
    "        (flag_status[\"first\"] == 0) & (flag_status[\"first_repeat\"] == 0),  # Not Flagged → Seen Again → Not Flagged\n",
    "        (flag_status[\"first\"] == 1) & (flag_status[\"first_repeat\"] == 0),  # Flagged → Seen Again → Not Flagged\n",
    "        (flag_status[\"first\"] == 0) & (flag_status[\"first_repeat\"] == 1),  # Not Flagged → Seen Again → Flagged\n",
    "        (flag_status[\"first\"] == 1) & (flag_status[\"first_repeat\"] == 1)   # Flagged → Seen Again → Flagged\n",
    "    ]\n",
    "    \n",
    "    labels = [r\"Not Flagged $\\rightarrow$ Not Flagged\", r\"Flagged $\\rightarrow$ Not Flagged\", r\"Not Flagged $\\rightarrow$ Flagged\", r\"Flagged $\\rightarrow$ Flagged\"]\n",
    "    flag_status[\"Behaviour\"] = np.select(conditions, labels, default=\"Other\")\n",
    "    \n",
    "    # Step 5: Compute the average fraction_play_time per user\n",
    "    user_avg_playtime = flag_status.reset_index().groupby([\"user_id\", \"Behaviour\"])[\"play_time_1st\"].mean().reset_index()\n",
    "\n",
    "    return user_avg_playtime"
   ]
  },
  {
   "cell_type": "code",
   "execution_count": 4,
   "id": "d32141a5-ae00-4c64-a673-d711957de17f",
   "metadata": {},
   "outputs": [
    {
     "name": "stdout",
     "output_type": "stream",
     "text": [
      "Loading file: KuaiRand-Harm/data/log_standard_4_08_to_4_21_27k_part2.csv\n",
      "Loading file: KuaiRand-Harm/data/log_standard_4_08_to_4_21_27k_part1.csv\n",
      "Loading file: KuaiRand-Harm/data/log_standard_4_22_to_5_08_27k_part1.csv\n",
      "Loading file: KuaiRand-Harm/data/log_standard_4_22_to_5_08_27k_part2.csv\n"
     ]
    }
   ],
   "source": [
    "full_df = load_csv_files_to_dataframe(\"KuaiRand-Harm/data\", [\"play_time_ms\", \"is_hate\", \"duration_ms\", \"video_id\", \"user_id\", \"date\", \"hourmin\", \"time_ms\"])"
   ]
  },
  {
   "cell_type": "code",
   "execution_count": 5,
   "id": "e4127aab-e64e-4406-9cb7-f6127f266d33",
   "metadata": {},
   "outputs": [
    {
     "name": "stdout",
     "output_type": "stream",
     "text": [
      "Total interaction size:  63829631\n",
      "Final interaction size:  56379526\n",
      "Reduction 0.11671859735488677\n",
      "Unique videos:  9857541\n"
     ]
    }
   ],
   "source": [
    "dt = pd.to_datetime(full_df[\"time_ms\"], unit='ms').dt.tz_localize('Asia/Singapore').dt.tz_convert(\"ETC/GMT-8\")\n",
    "full_df[\"timestamp\"] = dt\n",
    "full_df.drop(columns=[\"date\", \"hourmin\", \"time_ms\"], inplace=True)\n",
    "\n",
    "# Filter a bit to ensure we have reasonable data\n",
    "original_size = len(full_df)\n",
    "print(\"Total interaction size: \", len(full_df))\n",
    "\n",
    "# Keep only elements with a duration greater than zero.\n",
    "full_df = full_df[full_df.duration_ms > 0]\n",
    "full_df[\"fraction_play_time\"] = full_df.play_time_ms/full_df.duration_ms\n",
    "\n",
    "# Remove users which now do not have any negative video flagged\n",
    "harmful_users = full_df[full_df['is_hate'] == 1]['user_id'].unique()\n",
    "full_df = full_df[full_df['user_id'].isin(harmful_users)]\n",
    "\n",
    "reduction_size = len(full_df)\n",
    "print(\"Final interaction size: \", len(full_df))\n",
    "print(\"Reduction\", 1-reduction_size/original_size) # We basically loose around 12 % of interactions\n",
    "print(\"Unique videos: \", len(full_df.video_id.unique()))"
   ]
  },
  {
   "cell_type": "code",
   "execution_count": 6,
   "id": "3113e2a1-665d-4659-9b34-5bacb39a3154",
   "metadata": {},
   "outputs": [],
   "source": [
    "full_df['duration_seconds'] = round(full_df['duration_ms']/1000, 0)\n",
    "full_df['play_time_seconds'] = round(full_df['play_time_ms']/1000, 0)\n",
    "full_df[\"Reported\"] = full_df[\"is_hate\"].map({0: \"No\", 1: \"Yes\"})\n",
    "full_df[\"play_time_seconds_no_rounding\"] = full_df[\"play_time_ms\"]/1000"
   ]
  },
  {
   "cell_type": "code",
   "execution_count": 7,
   "id": "ebcb2356-c75f-4f04-a485-1b03eb226b1b",
   "metadata": {},
   "outputs": [
    {
     "name": "stdout",
     "output_type": "stream",
     "text": [
      "$0 \\leq H < 0.1 $ \t 4569 \t 0.601 \t 0.601\n",
      "$0.1 \\leq H < 0.3 $ \t 1909 \t 0.251 \t 0.852\n",
      "$0.3 \\leq H < 1 $ \t 827 \t 0.109 \t 0.961\n",
      "$1 \\leq H < 100 $ \t 296 \t 0.039 \t 1.0\n",
      "\n",
      "Kuaishou Video length:  77.12670218263276 104.22625927023087\n",
      "User Dwell time:  14.878583636903935 32.82713268025447\n",
      "Kuaishou Video length (median):  36.0\n",
      "User Dwell time (median):  3.0\n"
     ]
    }
   ],
   "source": [
    "## TABLE 1 ANALYSIS\n",
    "average_is_hate = full_df.groupby([\"user_id\"])[\"is_hate\"].mean().reset_index()\n",
    "ecdf_x, ecdf_y = st.ecdf(average_is_hate[\"is_hate\"].values*100).cdf.quantiles, st.ecdf(average_is_hate[\"is_hate\"].values*100).cdf.probabilities\n",
    "\n",
    "total = 0\n",
    "for lower_bound, upper_bound in [(0, 0.1), (0.1, 0.3), (0.3, 1), (1, 100)]:\n",
    "    \n",
    "    ecdf_value = ecdf_y[(ecdf_x <= upper_bound)][-1]\n",
    "    number_users = len(average_is_hate[(average_is_hate.is_hate*100 >= lower_bound) & (average_is_hate.is_hate*100 < upper_bound)])\n",
    "    average_users = number_users/len(average_is_hate)\n",
    "    \n",
    "    print(f\"${lower_bound} \\leq H < {upper_bound} $\", '\\t', number_users, '\\t', round(average_users, 3), '\\t', round(ecdf_value, 3))\n",
    "    total += number_users\n",
    "\n",
    "print()\n",
    "print(\"Kuaishou Video length: \", full_df['duration_seconds'].mean(), full_df['duration_seconds'].std())\n",
    "print(\"User Dwell time: \", full_df['play_time_seconds'].mean(), full_df['play_time_seconds'].std())\n",
    "print(\"Kuaishou Video length (median): \", full_df['duration_seconds'].median())\n",
    "print(\"User Dwell time (median): \", full_df['play_time_seconds'].median())"
   ]
  },
  {
   "cell_type": "code",
   "execution_count": 8,
   "id": "9970f4f9-6e20-4bb2-9d8b-e5b2afa23f80",
   "metadata": {},
   "outputs": [],
   "source": [
    "user_average_watch_time = full_df.groupby([\"user_id\", \"Reported\"])[\"play_time_seconds\"].mean().reset_index()"
   ]
  },
  {
   "cell_type": "code",
   "execution_count": 9,
   "id": "1a7a9a3d-fc99-48a0-9ac5-c3162c8ccc0b",
   "metadata": {},
   "outputs": [
    {
     "name": "stdout",
     "output_type": "stream",
     "text": [
      "Users which on average does not watch reported videos\n",
      "Reported = Yes \t 8.814629653992895 %\n",
      "Reported = No \t 0.0 %\n",
      "\n",
      "Percentage of reported videos (H=1) with zero watch-time\n",
      "17.095006132333683\n"
     ]
    }
   ],
   "source": [
    "print(\"Users which on average does not watch reported videos\")\n",
    "for reported in [\"Yes\", \"No\"]:\n",
    "    condition = (user_average_watch_time.play_time_seconds == 0) & (user_average_watch_time.Reported == reported)\n",
    "    users_who_do_not_watch_videos = user_average_watch_time[condition]\n",
    "    print(f\"Reported = {reported}\", '\\t', 100*len(users_who_do_not_watch_videos)/len(user_average_watch_time.user_id.unique()), \"%\")\n",
    "\n",
    "print()\n",
    "print(\"Percentage of reported videos (H=1) with zero watch-time\")\n",
    "print(100*len(full_df[(full_df.play_time_seconds == 0) & (full_df.Reported == \"Yes\")])/len(full_df[(full_df.Reported == \"Yes\")]))"
   ]
  },
  {
   "cell_type": "code",
   "execution_count": 39,
   "id": "b8bf2e8e-9129-463e-9c68-ac319e2e6b17",
   "metadata": {},
   "outputs": [],
   "source": [
    "# Now, we separate repeated and non-repeated videos\n",
    "full_df = full_df.sort_values(by=[\"user_id\", \"video_id\", \"timestamp\"])\n",
    "\n",
    "# Create DataFrame with only the first repeated occurrences\n",
    "repeated_videos = full_df[full_df.duplicated(subset=[\"user_id\", \"video_id\"], keep=False)].groupby([\"user_id\", \"video_id\"]).nth(1).reset_index()\n",
    "\n",
    "# Create DataFrame with videos seen only once\n",
    "seen_once_videos = full_df.drop_duplicates(subset=[\"user_id\", \"video_id\"], keep=\"first\")"
   ]
  },
  {
   "cell_type": "code",
   "execution_count": 12,
   "id": "d968c2ce-10cf-40db-86e8-6023dac6fe21",
   "metadata": {},
   "outputs": [],
   "source": [
    "# Find common (user_id, video_id) pairs\n",
    "common_pairs = seen_once_videos[['user_id', 'video_id']].merge(repeated_videos[['user_id', 'video_id']], on=['user_id', 'video_id'])\n",
    "\n",
    "# Filter both DataFrames to keep only common pairs\n",
    "tmp2 = seen_once_videos.merge(common_pairs, on=['user_id', 'video_id'])\n",
    "df2 = repeated_videos.merge(common_pairs, on=['user_id', 'video_id'])\n",
    "\n",
    "# Merge filtered DataFrames\n",
    "merged_df = pd.merge(tmp2, df2[[\"user_id\", \"video_id\", \"is_hate\", \"fraction_play_time\", 'play_time_ms', 'play_time_seconds', 'play_time_seconds_no_rounding']], on=['user_id', 'video_id'])\n",
    "del tmp2, df2, common_pairs"
   ]
  },
  {
   "cell_type": "code",
   "execution_count": 13,
   "id": "55164659-12a3-42f4-911c-ab2b99e202f5",
   "metadata": {},
   "outputs": [],
   "source": [
    "# Step 2: Classify video flagging behaviors\n",
    "conditions = [\n",
    "    (merged_df[\"is_hate_x\"] == 0) & (merged_df[\"is_hate_y\"] == 0),  # Not Flagged → Seen Again → Not Flagged\n",
    "    (merged_df[\"is_hate_x\"] == 1) & (merged_df[\"is_hate_y\"] == 0),  # Flagged → Seen Again → Not Flagged\n",
    "    (merged_df[\"is_hate_x\"] == 0) & (merged_df[\"is_hate_y\"] == 1),  # Not Flagged → Seen Again → Flagged\n",
    "    (merged_df[\"is_hate_x\"] == 1) & (merged_df[\"is_hate_y\"] == 1)   # Flagged → Seen Again → Flagged\n",
    "]\n",
    "\n",
    "labels = [r\"Not Flagged $\\rightarrow$ Not Flagged\", r\"Flagged $\\rightarrow$ Not Flagged\", r\"Not Flagged $\\rightarrow$ Flagged\", r\"Flagged $\\rightarrow$ Flagged\"]\n",
    "merged_df[\"Behaviour\"] = np.select(conditions, labels, default=\"Other\")"
   ]
  },
  {
   "cell_type": "code",
   "execution_count": 14,
   "id": "bac74a74-aa54-468b-8ac7-4084146e244f",
   "metadata": {},
   "outputs": [
    {
     "name": "stdout",
     "output_type": "stream",
     "text": [
      "% of repeated videos 2.642796251958557\n",
      "% of videos that get flagged:  0.25853385490869496\n",
      "% of videos that get flagged (then repeated):  0.10194658240693263\n",
      "% of videos with H_0=0 that get flagged:  0.10870171322768171\n",
      "\n",
      "Table 2\n",
      "Not Flagged $\\rightarrow$ Not Flagged \t 99.79 \t 100.0 \t $2.71\\pm \\scriptstyle 12.15 \\;\\; (1.39)$ \t $10.48\\pm \\scriptstyle 25.85 \\;\\; (7.95)$\n",
      "Flagged $\\rightarrow$ Not Flagged \t 0.03 \t 1.49 \t $1.36\\pm \\scriptstyle 6.91 \\;\\; (0.0)$ \t $6.46\\pm \\scriptstyle 25.42 \\;\\; (2.5)$\n",
      "Not Flagged $\\rightarrow$ Flagged \t 0.11 \t 8.69 \t $0.5\\pm \\scriptstyle 7.41 \\;\\; (0.0)$ \t $10.73\\pm \\scriptstyle 20.85 \\;\\; (10.13)$\n",
      "Flagged $\\rightarrow$ Flagged \t 0.07 \t 6.33 \t $7.74\\pm \\scriptstyle 15.83 \\;\\; (6.64)$ \t $7.85\\pm \\scriptstyle 15.86 \\;\\; (6.72)$\n"
     ]
    }
   ],
   "source": [
    "## TABLE 2 ANALYSIS\n",
    "\n",
    "print(\"% of repeated videos\", 100*len(merged_df)/len(full_df))\n",
    "print(\"% of videos that get flagged: \", 100*len(seen_once_videos[(seen_once_videos.is_hate==1)])/len(seen_once_videos))\n",
    "print(\"% of videos that get flagged (then repeated): \", 100*len(merged_df[(merged_df.is_hate_x==1)])/len(merged_df))\n",
    "print(\"% of videos with H_0=0 that get flagged: \", 100*len(merged_df[(merged_df.is_hate_y==1) & (merged_df.is_hate_x==0)])/len(merged_df[(merged_df.is_hate_x==0)]))\n",
    "\n",
    "total = 0\n",
    "print()\n",
    "print(\"Table 2\")\n",
    "for label in labels:\n",
    "    current_label_df = merged_df[merged_df[\"Behaviour\"] == label].copy()\n",
    "    current_label_df[\"play_time_seconds_x\"] = current_label_df[\"play_time_ms_x\"]/1000\n",
    "    current_label_df[\"play_time_seconds_y\"] = current_label_df[\"play_time_ms_y\"]/1000\n",
    "    users_with_this_label = len(current_label_df.user_id.unique())\n",
    "    watch_time_mean = current_label_df.play_time_seconds_x.mean()\n",
    "    watch_time_std = current_label_df.play_time_seconds_x.std()\n",
    "    watch_time_mean_second = current_label_df.play_time_seconds_y.mean()\n",
    "    watch_time_std_second = current_label_df.play_time_seconds_y.std()\n",
    "\n",
    "    watch_time_median = current_label_df.play_time_seconds_x.quantile(0.75)\n",
    "    watch_time_median_second = current_label_df.play_time_seconds_y.quantile(0.75)\n",
    "    \n",
    "    print(\n",
    "        label, '\\t',\n",
    "        round(100*len(current_label_df)/len(merged_df), 2), '\\t',\n",
    "        round(100*users_with_this_label/len(merged_df.user_id.unique()), 2), '\\t',\n",
    "        f\"${round(watch_time_mean, 2)}\\pm \\scriptstyle {round(watch_time_std, 2)} \\;\\; ({round(watch_time_median, 2)})$\", '\\t',\n",
    "        f\"${round(watch_time_mean_second, 2)}\\pm \\scriptstyle {round(watch_time_std_second, 2)} \\;\\; ({round(watch_time_median_second, 2)})$\"\n",
    "    )\n",
    "    total += len(current_label_df)/len(merged_df)\n",
    "\n",
    "del current_label_df"
   ]
  },
  {
   "cell_type": "code",
   "execution_count": 15,
   "id": "33b98a8d-3204-4bca-a283-5631159d1313",
   "metadata": {},
   "outputs": [
    {
     "name": "stdout",
     "output_type": "stream",
     "text": [
      "639643 861848\n",
      "    user_id  total_videos  flagged_videos  flag_ratio\n",
      "0     19048          5238            3419    0.652730\n",
      "1     15859         14369            6025    0.419305\n",
      "2     17168          2935            1114    0.379557\n",
      "3      4996         12924            3307    0.255881\n",
      "4     10933          2332             565    0.242281\n",
      "..      ...           ...             ...         ...\n",
      "95    15947          1878              50    0.026624\n",
      "96     2468           716              19    0.026536\n",
      "97     6410          3831             101    0.026364\n",
      "98    18712          5661             147    0.025967\n",
      "99     9996          4587             118    0.025725\n",
      "\n",
      "[100 rows x 4 columns]\n"
     ]
    }
   ],
   "source": [
    "user_flag_ratio = seen_once_videos.groupby('user_id').agg(\n",
    "    total_videos=('video_id', 'count'),\n",
    "    flagged_videos=('is_hate', 'sum')\n",
    ")\n",
    "\n",
    "# Calculate the flagged ratio\n",
    "user_flag_ratio['flag_ratio'] = user_flag_ratio['flagged_videos'] / user_flag_ratio['total_videos']\n",
    "\n",
    "# Get the top 50 users by decreasing flagged ratio\n",
    "top_50_users = user_flag_ratio.sort_values('flag_ratio', ascending=False).head(100).reset_index()\n",
    "\n",
    "tmp = seen_once_videos[seen_once_videos.user_id.isin(top_50_users.user_id.values)]"
   ]
  },
  {
   "cell_type": "code",
   "execution_count": 18,
   "id": "964e0541-729c-4782-a79e-39ae0f722e9e",
   "metadata": {},
   "outputs": [
    {
     "name": "stdout",
     "output_type": "stream",
     "text": [
      "7.406484375\n"
     ]
    },
    {
     "name": "stderr",
     "output_type": "stream",
     "text": [
      "/tmp/ipykernel_2847706/904730458.py:71: UserWarning: set_ticklabels() should only be used with a fixed number of ticks, i.e. after set_ticks() or using a FixedLocator.\n",
      "  axs[0].set_xticklabels([\"No\", \"Yes\"])\n",
      "/tmp/ipykernel_2847706/904730458.py:81: UserWarning: set_ticklabels() should only be used with a fixed number of ticks, i.e. after set_ticks() or using a FixedLocator.\n",
      "  axs[1].set_xticklabels([\"None\", r\"$0\\%$\", r\"$1\\%$\", r\"$10\\%$\", r\"$50\\%$\"])\n"
     ]
    },
    {
     "data": {
      "image/png": "[encoded data removed]",
      "text/plain": [
       "<Figure size 600x200 with 3 Axes>"
      ]
     },
     "metadata": {},
     "output_type": "display_data"
    }
   ],
   "source": [
    "import matplotlib.patches as mpatches\n",
    "from matplotlib.lines import Line2D\n",
    "\n",
    "fig, axs = plt.subplots(1, 2, figsize=(6, 2), constrained_layout=True)\n",
    "\n",
    "condition = (merged_df.Behaviour.isin([r\"Not Flagged $\\rightarrow$ Flagged\",  r\"Not Flagged $\\rightarrow$ Not Flagged\"]))\n",
    "\n",
    "sns.stripplot(data=merged_df[condition],\n",
    "             x=\"Behaviour\",\n",
    "             y=\"fraction_play_time_x\",\n",
    "             #y=\"play_time_seconds_x\",\n",
    "             ax=axs[0],\n",
    "             legend=False,\n",
    "             color=sns.color_palette(\"colorblind\")[0],\n",
    "             zorder=1,\n",
    "            )\n",
    "\n",
    "sns.barplot(\n",
    "    data=likelihood_beta,\n",
    "    x=\"beta\",\n",
    "    y=\"harm\",\n",
    "    ax=axs[1],\n",
    "    color=sns.color_palette(\"colorblind\")[2],\n",
    ")\n",
    "\n",
    "# Compute y-threshold for shading\n",
    "y_threshold = merged_df[merged_df.Behaviour == r\"Not Flagged $\\rightarrow$ Flagged\"].fraction_play_time_x.max()\n",
    "\n",
    "# Custom legend handles\n",
    "legend_patches = [\n",
    "    #mpatches.Patch(color=sns.color_palette()[2], label=\"1st view\"),\n",
    "    #mpatches.Patch(color=sns.color_palette()[0], label=\"2nd view\"),\n",
    "    Line2D([0], [0], color=\"black\", linestyle=\"--\", label=r\"$\\beta^*$\"),\n",
    "]\n",
    "\n",
    "axs[0].set_xlabel(\"Reported on 2nd view\")\n",
    "axs[0].set_xticklabels([\"No\", \"Yes\"])\n",
    "axs[0].set_ylabel(r\"$W_{\\%}$\")\n",
    "axs[0].grid(axis=\"y\")\n",
    "\n",
    "axs[1].set_ylabel(None)\n",
    "axs[1].set_xticklabels([\"None\", r\"$0\\%$\", r\"$1\\%$\", r\"$10\\%$\", r\"$50\\%$\"])\n",
    "axs[1].set_xlabel(r\"$\\beta$\")\n",
    "\n",
    "axs[1].ticklabel_format(style='sci', axis='y', scilimits=(0,0))\n",
    "axs[0].ticklabel_format(style='sci', axis='y', scilimits=(0,0))\n",
    "\n",
    "ax2 = axs[1].twinx()\n",
    "x_positions = [p.get_x() + p.get_width() / 2 for p in axs[1].patches]\n",
    "ax2.plot(x_positions, likelihood_beta['available'], marker='o', color=sns.color_palette(\"colorblind\")[3])\n",
    "\n",
    "plt.savefig(\"015_beta_repeated_videos.png\", format=\"png\", bbox_inches='tight', dpi=600)"
   ]
  },
  {
   "cell_type": "code",
   "execution_count": 22,
   "id": "86113a34-8f23-4e71-9b40-cca01cf770b6",
   "metadata": {},
   "outputs": [
    {
     "data": {
      "image/png": "[encoded data removed]",
      "text/plain": [
       "<Figure size 700x200 with 3 Axes>"
      ]
     },
     "metadata": {},
     "output_type": "display_data"
    }
   ],
   "source": [
    "# We consider only videos with a duration between 7 and 12 seconds, since those are the most frequent ones.\n",
    "# Then, we show how with a watchtime between 0 and 1, they behave as a log-normal (with a little tail on the left\n",
    "# Then, for watch time > 1 they behave like a weibull/exponential\n",
    "\n",
    "fig, axs = plt.subplots(1, 3, figsize=(7, 2), constrained_layout=True)\n",
    "\n",
    "g = sns.histplot(seen_once_videos[(seen_once_videos.is_hate==1) & (seen_once_videos.duration_seconds >= 6) & (seen_once_videos.duration_seconds <= 15)],\n",
    "                x=\"play_time_seconds_no_rounding\",\n",
    "                bins=100,\n",
    "                log_scale=True,\n",
    "                legend=True,\n",
    "                stat=\"density\",\n",
    "                ax=axs[0])\n",
    "g = sns.histplot(seen_once_videos[(seen_once_videos.is_hate==1) & (seen_once_videos.fraction_play_time > 0) & (seen_once_videos.fraction_play_time <= 1) & (seen_once_videos.duration_seconds >= 6) & (seen_once_videos.duration_seconds <= 15)],\n",
    "                x=\"play_time_seconds_no_rounding\",\n",
    "                bins=100,\n",
    "                log_scale=True,\n",
    "                legend=True,\n",
    "                stat=\"density\",\n",
    "                ax=axs[1])\n",
    "g = sns.histplot(seen_once_videos[(seen_once_videos.is_hate==1) & (seen_once_videos.fraction_play_time > 1) & (seen_once_videos.duration_seconds >= 6) & (seen_once_videos.duration_seconds <= 15)],\n",
    "                x=\"play_time_seconds_no_rounding\",\n",
    "                bins=100,\n",
    "                log_scale=True,\n",
    "                legend=True,\n",
    "                stat=\"density\",\n",
    "                ax=axs[2])\n",
    "\n",
    "\n",
    "axs[0].set_xlim(0.5, 200)\n",
    "axs[0].set_ylabel(\"\")\n",
    "axs[0].set_xlabel(r\"Watch Time ($s$)\")\n",
    "axs[0].ticklabel_format(axis='y', style='sci', scilimits=(0,0))\n",
    "\n",
    "axs[2].set_xlim(5, 200)\n",
    "axs[2].set_ylabel(\"\")\n",
    "axs[2].set_xlabel(r\"Watch Time ($s$)\")\n",
    "axs[2].ticklabel_format(axis='y', style='sci', scilimits=(0,0))\n",
    "\n",
    "axs[1].set_xlim(0.5, 20)\n",
    "axs[1].set_ylabel(\"\")\n",
    "axs[1].set_xlabel(r\"Watch Time ($s$)\")\n",
    "axs[1].ticklabel_format(axis='y', style='sci', scilimits=(0,0))\n",
    "\n",
    "axs[0].set_title(r\"$W_{\\%} > 0\\% $\")\n",
    "axs[1].set_title(r\"$0\\% > W_{\\%} \\geq 100\\%$\")\n",
    "axs[2].set_title(r\"$ W_{\\%} > 100\\%$\")\n",
    "\n",
    "plt.savefig(\"011_dwell_time_6-12.pdf\", format=\"pdf\", bbox_inches='tight')"
   ]
  },
  {
   "cell_type": "code",
   "execution_count": 45,
   "id": "c02172a1-fd99-4db4-bdb1-c74e4a5f0a33",
   "metadata": {},
   "outputs": [
    {
     "name": "stdout",
     "output_type": "stream",
     "text": [
      "0.21178482493442458\n"
     ]
    },
    {
     "data": {
      "image/png": "[encoded data removed]",
      "text/plain": [
       "<Figure size 700x200 with 4 Axes>"
      ]
     },
     "metadata": {},
     "output_type": "display_data"
    }
   ],
   "source": [
    "import seaborn as sns\n",
    "import matplotlib.pyplot as plt\n",
    "from mpl_toolkits.axes_grid1.inset_locator import inset_axes, mark_inset\n",
    "\n",
    "fig, axs = plt.subplots(1, 2, figsize=(7, 2), constrained_layout=True)\n",
    "\n",
    "plot_data = seen_once_videos\n",
    "\n",
    "# Define the main condition\n",
    "condition = (plot_data.fraction_play_time >= 0) & (plot_data.fraction_play_time < 3)\n",
    "\n",
    "print(len(plot_data[condition & (plot_data.fraction_play_time == 0)])/len(plot_data[condition]))\n",
    "\n",
    "# Create the main plot\n",
    "g = sns.histplot(plot_data[condition & (plot_data.is_hate == 0)],\n",
    "                x=\"fraction_play_time\",\n",
    "                bins=100,\n",
    "                kde=False,\n",
    "                log_scale=False,\n",
    "                legend=True,\n",
    "                stat=\"count\",\n",
    "                label=\"No\",\n",
    "               ax=axs[0])\n",
    "\n",
    "g = sns.histplot(plot_data[condition & (plot_data.is_hate == 1)],\n",
    "                x=\"fraction_play_time\",\n",
    "                bins=100,\n",
    "                kde=False,\n",
    "                log_scale=False,\n",
    "                legend=True,\n",
    "                stat=\"count\",\n",
    "                 label=\"Yes\",\n",
    "               ax=axs[1])\n",
    "\n",
    "# Loop through each subplot to add an inset\n",
    "for ax, col_val, color in zip(axs, [0, 1], sns.color_palette()[:2]):  # Iterate over FacetGrid axes\n",
    "\n",
    "    for artist in ax.patches:  # Change histogram bars color\n",
    "        artist.set_facecolor(color)\n",
    "    for line in ax.lines:  # Change KDE color\n",
    "        line.set_color(color)\n",
    "    \n",
    "    inset_ax = inset_axes(ax, width=\"50%\", height=\"50%\", loc=\"upper right\")  # Create inset\n",
    "\n",
    "    ax.set_title(f\"Reported = {'Yes' if col_val == 1 else 'No'}\")\n",
    "    ax.set_xlabel(r\"$W_{\\%}$\")\n",
    "    ax.text(0.87, -0.35, r'$\\times 10^2$', transform=ax.transAxes,\n",
    "        ha='left', va='center')\n",
    "    ax.grid(axis=\"y\")\n",
    "    ax.ticklabel_format(style='sci', axis='y', scilimits=(0,0))\n",
    "    \n",
    "    # Define the condition for the inset\n",
    "    inset_condition = ((plot_data.fraction_play_time >= 0.7) & (plot_data.fraction_play_time < 2.5) & \n",
    "                       (plot_data.is_hate == col_val))  # Ensure same \"is_hate\" category\n",
    "    \n",
    "    # Plot the same data but within the restricted range\n",
    "    sns.histplot(plot_data[inset_condition],\n",
    "                 x=\"fraction_play_time\",\n",
    "                 bins=30,\n",
    "                 ax=inset_ax)\n",
    "    \n",
    "    for artist in inset_ax.patches:  # Change histogram bars color\n",
    "        artist.set_facecolor(color)\n",
    "    for line in inset_ax.lines:  # Change KDE color\n",
    "        line.set_color(color)\n",
    "    \n",
    "    inset_ax.set_xlim(0.7, 2.5)  # Restrict the x-axis to match the range\n",
    "    inset_ax.set_xticks([0.7, 1.8, 2.5])  # Adjust x-ticks for readability\n",
    "    inset_ax.set_yticks([])  # Hide y-ticks for a cleaner look\n",
    "    inset_ax.set_xlabel(\"\")\n",
    "    inset_ax.set_ylabel(\"\")\n",
    "\n",
    "    # Add zoom effect with connecting lines\n",
    "    mark_inset(ax, inset_ax, loc1=2, loc2=4, fc=\"none\", ec=\"0.5\", linestyle=\"--\")\n",
    "\n",
    "axs[1].set_ylabel(\"\")\n",
    "\n",
    "plt.savefig(\"012_repeated_videos_watch_time.pdf\", format=\"pdf\", bbox_inches='tight')"
   ]
  }
 ],
 "metadata": {
  "kernelspec": {
   "display_name": "harm-recsys",
   "language": "python",
   "name": "harm-recsys"
  },
  "language_info": {
   "codemirror_mode": {
    "name": "ipython",
    "version": 3
   },
   "file_extension": ".py",
   "mimetype": "text/x-python",
   "name": "python",
   "nbconvert_exporter": "python",
   "pygments_lexer": "ipython3",
   "version": "3.10.15"
  }
 },
 "nbformat": 4,
 "nbformat_minor": 5
}
